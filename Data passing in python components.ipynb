{
 "cells": [
  {
   "cell_type": "code",
   "execution_count": null,
   "metadata": {},
   "outputs": [],
   "source": []
  },
  {
   "cell_type": "markdown",
   "metadata": {},
   "source": [
    "# Data passing tutorial\n",
    "Data passing is the most important aspect of Pipelines.\n",
    "\n",
    "In Kubeflow Pipelines, the pipeline authors compose pipelines by creating component instances (tasks) and connecting them together.\n",
    "\n",
    "Component have inputs and outputs. They can consume and produce arbitrary data.\n",
    "\n",
    "Pipeline authors establish connections between component tasks by connecting their data inputs and outputs - by passing the output of one task as an argument to another task's input.\n",
    "\n",
    "The system takes care of storing the data produced by components and later passing that data to other components for consumption as instructed by the pipeline.\n",
    "\n",
    "This tutorial shows how to create python components that produce, consume and transform data.\n",
    "It shows how to create data passing pipelines by instantiating components and connecting them together."
   ]
  },
  {
   "cell_type": "code",
   "execution_count": 1,
   "metadata": {},
   "outputs": [],
   "source": [
    "# Put your KFP cluster endpoint URL here if working from GCP notebooks (or local notebooks). ('https://xxxxx.notebooks.googleusercontent.com/')\n",
    "kfp_endpoint='https://kubeflow.k8s.tidu.live/pipeline'\n",
    "# CA_BUNDLE='/etc/ssl/certs/ca-certificates.crt'"
   ]
  },
  {
   "cell_type": "code",
   "execution_count": 2,
   "metadata": {},
   "outputs": [],
   "source": [
    "# Install Kubeflow Pipelines SDK. Add the --user argument if you get permission errors.\n",
    "!PIP_DISABLE_PIP_VERSION_CHECK=1 python3 -m pip install 'kfp>=0.1.32.2' --quiet --user"
   ]
  },
  {
   "cell_type": "code",
   "execution_count": 2,
   "metadata": {},
   "outputs": [],
   "source": [
    "from typing import NamedTuple\n",
    "\n",
    "import kfp\n",
    "from kfp.components import InputPath, InputTextFile, OutputPath, OutputTextFile\n",
    "from kfp.components import func_to_container_op"
   ]
  },
  {
   "cell_type": "markdown",
   "metadata": {},
   "source": [
    "## Small data\n",
    "\n",
    "Small data is the data that you'll be comfortable passing as program's command-line argument. Smal data size should not exceed few kilobytes.\n",
    "\n",
    "Some examples of typical types of small data are: number, URL, small string (e.g. column name).\n",
    "\n",
    "Small lists, dictionaries and JSON structures are fine, but keep an eye on the size and consider switching to file-based data passing methods taht are more suitable for bigger data (more than several kilobytes) or binary data.\n",
    "\n",
    "All small data outputs will be at some point serialized to strings and all small data input values will be at some point deserialized from strings (passed as command-line argumants). There are built-in serializers and deserializers for several common types (e.g. `str`, `int`, `float`, `bool`, `list`, `dict`). All other types of data need to be serialized manually before returning the data. Make sure to properly specify type annotations, otherwize there would be no automatic deserialization and the component function will receive strings instead of deserialized objects."
   ]
  },
  {
   "cell_type": "markdown",
   "metadata": {},
   "source": [
    "### Consuming small data"
   ]
  },
  {
   "cell_type": "code",
   "execution_count": 3,
   "metadata": {},
   "outputs": [],
   "source": [
    "client = kfp.Client(ui_host=kfp_endpoint)"
   ]
  },
  {
   "cell_type": "code",
   "execution_count": 5,
   "metadata": {},
   "outputs": [
    {
     "name": "stdout",
     "output_type": "stream",
     "text": [
      "{'next_page_token': None,\n",
      " 'pipelines': [{'created_at': datetime.datetime(2021, 10, 20, 18, 22, 52, tzinfo=tzutc()),\n",
      "                'default_version': {'code_source_url': None,\n",
      "                                    'created_at': datetime.datetime(2021, 10, 20, 18, 22, 52, tzinfo=tzutc()),\n",
      "                                    'description': None,\n",
      "                                    'id': '129fd9c6-56ba-4077-97b9-f1327c344677',\n",
      "                                    'name': '[Demo] XGBoost - Iterative model '\n",
      "                                            'training',\n",
      "                                    'package_url': None,\n",
      "                                    'parameters': None,\n",
      "                                    'resource_references': [{'key': {'id': '129fd9c6-56ba-4077-97b9-f1327c344677',\n",
      "                                                                     'type': 'PIPELINE'},\n",
      "                                                             'name': None,\n",
      "                                                             'relationship': 'OWNER'}]},\n",
      "                'description': '[source '\n",
      "                               'code](https://github.com/kubeflow/pipelines/blob/6cddf73a1e79540aeacb761e517fd4319b3b3aa5/samples/core/train_until_good/train_until_good.py) '\n",
      "                               'This sample demonstrates iterative training '\n",
      "                               'using a train-eval-check recursive loop. The '\n",
      "                               'main pipeline trains the initial model and '\n",
      "                               'then gradually trains the model some more '\n",
      "                               'until the model evaluation metrics are good '\n",
      "                               'enough.',\n",
      "                'error': None,\n",
      "                'id': '129fd9c6-56ba-4077-97b9-f1327c344677',\n",
      "                'name': '[Demo] XGBoost - Iterative model training',\n",
      "                'parameters': None,\n",
      "                'resource_references': None,\n",
      "                'url': None},\n",
      "               {'created_at': datetime.datetime(2021, 10, 20, 18, 22, 53, tzinfo=tzutc()),\n",
      "                'default_version': {'code_source_url': None,\n",
      "                                    'created_at': datetime.datetime(2021, 10, 20, 18, 22, 53, tzinfo=tzutc()),\n",
      "                                    'description': None,\n",
      "                                    'id': '9a0e9f9e-b6f2-4450-8262-83f1f5165577',\n",
      "                                    'name': '[Demo] TFX - Taxi tip prediction '\n",
      "                                            'model trainer',\n",
      "                                    'package_url': None,\n",
      "                                    'parameters': [{'name': 'pipeline-root',\n",
      "                                                    'value': 'gs://{{kfp-default-bucket}}/tfx_taxi_simple/{{workflow.uid}}'},\n",
      "                                                   {'name': 'data-root',\n",
      "                                                    'value': 'gs://ml-pipeline/sample-data/chicago-taxi/data'},\n",
      "                                                   {'name': 'module-file',\n",
      "                                                    'value': '/tfx/src/tfx/examples/chicago_taxi_pipeline/taxi_utils.py'}],\n",
      "                                    'resource_references': [{'key': {'id': '9a0e9f9e-b6f2-4450-8262-83f1f5165577',\n",
      "                                                                     'type': 'PIPELINE'},\n",
      "                                                             'name': None,\n",
      "                                                             'relationship': 'OWNER'}]},\n",
      "                'description': '[source '\n",
      "                               'code](https://github.com/kubeflow/pipelines/tree/6cddf73a1e79540aeacb761e517fd4319b3b3aa5/samples/core/parameterized_tfx_oss) '\n",
      "                               '[GCP Permission '\n",
      "                               'requirements](https://github.com/kubeflow/pipelines/blob/6cddf73a1e79540aeacb761e517fd4319b3b3aa5/samples/core/parameterized_tfx_oss#permission). '\n",
      "                               'Example pipeline that does classification with '\n",
      "                               'model analysis based on a public tax cab '\n",
      "                               'dataset.',\n",
      "                'error': None,\n",
      "                'id': '9a0e9f9e-b6f2-4450-8262-83f1f5165577',\n",
      "                'name': '[Demo] TFX - Taxi tip prediction model trainer',\n",
      "                'parameters': [{'name': 'pipeline-root',\n",
      "                                'value': 'gs://{{kfp-default-bucket}}/tfx_taxi_simple/{{workflow.uid}}'},\n",
      "                               {'name': 'data-root',\n",
      "                                'value': 'gs://ml-pipeline/sample-data/chicago-taxi/data'},\n",
      "                               {'name': 'module-file',\n",
      "                                'value': '/tfx/src/tfx/examples/chicago_taxi_pipeline/taxi_utils.py'}],\n",
      "                'resource_references': None,\n",
      "                'url': None},\n",
      "               {'created_at': datetime.datetime(2021, 10, 20, 18, 22, 54, tzinfo=tzutc()),\n",
      "                'default_version': {'code_source_url': None,\n",
      "                                    'created_at': datetime.datetime(2021, 10, 20, 18, 22, 54, tzinfo=tzutc()),\n",
      "                                    'description': None,\n",
      "                                    'id': '064f26cf-5022-4c35-b7a7-eed0a91df682',\n",
      "                                    'name': '[Tutorial] Data passing in python '\n",
      "                                            'components',\n",
      "                                    'package_url': None,\n",
      "                                    'parameters': None,\n",
      "                                    'resource_references': [{'key': {'id': '064f26cf-5022-4c35-b7a7-eed0a91df682',\n",
      "                                                                     'type': 'PIPELINE'},\n",
      "                                                             'name': None,\n",
      "                                                             'relationship': 'OWNER'}]},\n",
      "                'description': '[source '\n",
      "                               'code](https://github.com/kubeflow/pipelines/tree/6cddf73a1e79540aeacb761e517fd4319b3b3aa5/samples/tutorials/Data%20passing%20in%20python%20components) '\n",
      "                               'Shows how to pass data between python '\n",
      "                               'components.',\n",
      "                'error': None,\n",
      "                'id': '064f26cf-5022-4c35-b7a7-eed0a91df682',\n",
      "                'name': '[Tutorial] Data passing in python components',\n",
      "                'parameters': None,\n",
      "                'resource_references': None,\n",
      "                'url': None},\n",
      "               {'created_at': datetime.datetime(2021, 10, 20, 18, 22, 55, tzinfo=tzutc()),\n",
      "                'default_version': {'code_source_url': None,\n",
      "                                    'created_at': datetime.datetime(2021, 10, 20, 18, 22, 55, tzinfo=tzutc()),\n",
      "                                    'description': None,\n",
      "                                    'id': 'faa3d772-b653-41b4-b9db-67b91bbe8c13',\n",
      "                                    'name': '[Tutorial] DSL - Control '\n",
      "                                            'structures',\n",
      "                                    'package_url': None,\n",
      "                                    'parameters': None,\n",
      "                                    'resource_references': [{'key': {'id': 'faa3d772-b653-41b4-b9db-67b91bbe8c13',\n",
      "                                                                     'type': 'PIPELINE'},\n",
      "                                                             'name': None,\n",
      "                                                             'relationship': 'OWNER'}]},\n",
      "                'description': '[source '\n",
      "                               'code](https://github.com/kubeflow/pipelines/tree/6cddf73a1e79540aeacb761e517fd4319b3b3aa5/samples/tutorials/DSL%20-%20Control%20structures) '\n",
      "                               'Shows how to use conditional execution and '\n",
      "                               'exit handlers. This pipeline will randomly '\n",
      "                               'fail to demonstrate that the exit handler gets '\n",
      "                               'executed even in case of failure.',\n",
      "                'error': None,\n",
      "                'id': 'faa3d772-b653-41b4-b9db-67b91bbe8c13',\n",
      "                'name': '[Tutorial] DSL - Control structures',\n",
      "                'parameters': None,\n",
      "                'resource_references': None,\n",
      "                'url': None}],\n",
      " 'total_size': 4}\n"
     ]
    }
   ],
   "source": [
    "print(client.list_pipelines())"
   ]
  },
  {
   "cell_type": "code",
   "execution_count": 88,
   "metadata": {},
   "outputs": [],
   "source": [
    "# client.create_experiment(\"tidu2\", description=\"test-data-size\")"
   ]
  },
  {
   "cell_type": "code",
   "execution_count": 6,
   "metadata": {},
   "outputs": [
    {
     "data": {
      "text/plain": [
       "{'experiments': None, 'next_page_token': None, 'total_size': None}"
      ]
     },
     "execution_count": 6,
     "metadata": {},
     "output_type": "execute_result"
    }
   ],
   "source": [
    "client.list_experiments()"
   ]
  },
  {
   "cell_type": "code",
   "execution_count": 7,
   "metadata": {},
   "outputs": [
    {
     "data": {
      "text/html": [
       "<a href=\"https://kubeflow.k8s.tidu.live/pipeline/#/experiments/details/e789682c-f19c-483d-82b4-41e377e616f4\" target=\"_blank\" >Experiment details</a>."
      ],
      "text/plain": [
       "<IPython.core.display.HTML object>"
      ]
     },
     "metadata": {},
     "output_type": "display_data"
    },
    {
     "data": {
      "text/html": [
       "<a href=\"https://kubeflow.k8s.tidu.live/pipeline/#/runs/details/08ba48c8-98dc-4fd5-905c-780851bbbb63\" target=\"_blank\" >Run details</a>."
      ],
      "text/plain": [
       "<IPython.core.display.HTML object>"
      ]
     },
     "metadata": {},
     "output_type": "display_data"
    },
    {
     "data": {
      "text/plain": [
       "RunPipelineResult(run_id=08ba48c8-98dc-4fd5-905c-780851bbbb63)"
      ]
     },
     "execution_count": 7,
     "metadata": {},
     "output_type": "execute_result"
    }
   ],
   "source": [
    "@func_to_container_op\n",
    "def print_small_text(text: str):\n",
    "    '''Print small text'''\n",
    "    print(text)\n",
    "\n",
    "def constant_to_consumer_pipeline():\n",
    "    '''Pipeline that passes small constant string to to consumer'''\n",
    "    consume_task = print_small_text('Hello world') # Passing constant as argument to consumer\n",
    "\n",
    "client.create_run_from_pipeline_func(constant_to_consumer_pipeline, arguments={})"
   ]
  },
  {
   "cell_type": "code",
   "execution_count": 90,
   "metadata": {},
   "outputs": [
    {
     "data": {
      "text/html": [
       "<a href=\"https://k8s.tt/pipeline/#/experiments/details/59d88dd9-1c44-4361-a470-34e892443a32\" target=\"_blank\" >Experiment details</a>."
      ],
      "text/plain": [
       "<IPython.core.display.HTML object>"
      ]
     },
     "metadata": {},
     "output_type": "display_data"
    },
    {
     "data": {
      "text/html": [
       "<a href=\"https://k8s.tt/pipeline/#/runs/details/429abef4-dfd5-4cfd-8193-b0200a609059\" target=\"_blank\" >Run details</a>."
      ],
      "text/plain": [
       "<IPython.core.display.HTML object>"
      ]
     },
     "metadata": {},
     "output_type": "display_data"
    },
    {
     "data": {
      "text/plain": [
       "RunPipelineResult(run_id=429abef4-dfd5-4cfd-8193-b0200a609059)"
      ]
     },
     "execution_count": 90,
     "metadata": {},
     "output_type": "execute_result"
    }
   ],
   "source": [
    "def pipeline_parameter_to_consumer_pipeline(text: str):\n",
    "    '''Pipeline that passes small pipeline parameter string to to consumer'''\n",
    "    consume_task = print_small_text(text) # Passing pipeline parameter as argument to consumer\n",
    "\n",
    "client.create_run_from_pipeline_func(\n",
    "    pipeline_parameter_to_consumer_pipeline,\n",
    "    arguments={'text': 'Hello world'}\n",
    ")"
   ]
  },
  {
   "cell_type": "markdown",
   "metadata": {},
   "source": [
    "### Producing small data"
   ]
  },
  {
   "cell_type": "code",
   "execution_count": 91,
   "metadata": {},
   "outputs": [
    {
     "data": {
      "text/html": [
       "<a href=\"https://k8s.tt/pipeline/#/experiments/details/59d88dd9-1c44-4361-a470-34e892443a32\" target=\"_blank\" >Experiment details</a>."
      ],
      "text/plain": [
       "<IPython.core.display.HTML object>"
      ]
     },
     "metadata": {},
     "output_type": "display_data"
    },
    {
     "data": {
      "text/html": [
       "<a href=\"https://k8s.tt/pipeline/#/runs/details/d231e3ac-02d6-4708-adae-c450333b5a86\" target=\"_blank\" >Run details</a>."
      ],
      "text/plain": [
       "<IPython.core.display.HTML object>"
      ]
     },
     "metadata": {},
     "output_type": "display_data"
    },
    {
     "data": {
      "text/plain": [
       "RunPipelineResult(run_id=d231e3ac-02d6-4708-adae-c450333b5a86)"
      ]
     },
     "execution_count": 91,
     "metadata": {},
     "output_type": "execute_result"
    }
   ],
   "source": [
    "@func_to_container_op\n",
    "def produce_one_small_output() -> str:\n",
    "    return 'TiDu Nguyen'\n",
    "\n",
    "def task_output_to_consumer_pipeline():\n",
    "    '''Pipeline that passes small data from producer to consumer'''\n",
    "    produce_task = produce_one_small_output()\n",
    "    # Passing producer task output as argument to consumer\n",
    "    consume_task1 = print_small_text(produce_task.output) # task.output only works for single-output components\n",
    "    consume_task2 = print_small_text(produce_task.outputs['output']) # task.outputs[...] always works\n",
    "\n",
    "client.create_run_from_pipeline_func(task_output_to_consumer_pipeline, arguments={})"
   ]
  },
  {
   "cell_type": "markdown",
   "metadata": {},
   "source": [
    "### Producing and consuming multiple arguments"
   ]
  },
  {
   "cell_type": "code",
   "execution_count": 92,
   "metadata": {},
   "outputs": [
    {
     "data": {
      "text/html": [
       "<a href=\"https://k8s.tt/pipeline/#/experiments/details/59d88dd9-1c44-4361-a470-34e892443a32\" target=\"_blank\" >Experiment details</a>."
      ],
      "text/plain": [
       "<IPython.core.display.HTML object>"
      ]
     },
     "metadata": {},
     "output_type": "display_data"
    },
    {
     "data": {
      "text/html": [
       "<a href=\"https://k8s.tt/pipeline/#/runs/details/1b36d0e3-eb71-409e-80c4-f3b315eba6b7\" target=\"_blank\" >Run details</a>."
      ],
      "text/plain": [
       "<IPython.core.display.HTML object>"
      ]
     },
     "metadata": {},
     "output_type": "display_data"
    },
    {
     "data": {
      "text/plain": [
       "RunPipelineResult(run_id=1b36d0e3-eb71-409e-80c4-f3b315eba6b7)"
      ]
     },
     "execution_count": 92,
     "metadata": {},
     "output_type": "execute_result"
    }
   ],
   "source": [
    "@func_to_container_op\n",
    "def produce_two_small_outputs() -> NamedTuple('Outputs', [('text', str), ('number', int)]):\n",
    "    return (\"data 1\", 42)\n",
    "\n",
    "@func_to_container_op\n",
    "def consume_two_arguments(text: str, number: int):\n",
    "    print('Text={}'.format(text))\n",
    "    print('Number={}'.format(str(number ** 2)))\n",
    "\n",
    "def producers_to_consumers_pipeline(text: str = \"Hello world\"):\n",
    "    '''Pipeline that passes data from producer to consumer'''\n",
    "    produce1_task = produce_one_small_output()\n",
    "    produce2_task = produce_two_small_outputs()\n",
    "\n",
    "    consume_task1 = consume_two_arguments(produce1_task.output, 42)\n",
    "    consume_task2 = consume_two_arguments(text, produce2_task.outputs['number'])\n",
    "    consume_task3 = consume_two_arguments(produce2_task.outputs['text'], produce2_task.outputs['number'])\n",
    "\n",
    "\n",
    "client.create_run_from_pipeline_func(producers_to_consumers_pipeline, arguments={})"
   ]
  },
  {
   "cell_type": "markdown",
   "metadata": {},
   "source": [
    "### Consuming and producing data at the same time"
   ]
  },
  {
   "cell_type": "code",
   "execution_count": 93,
   "metadata": {},
   "outputs": [
    {
     "data": {
      "text/html": [
       "<a href=\"https://k8s.tt/pipeline/#/experiments/details/59d88dd9-1c44-4361-a470-34e892443a32\" target=\"_blank\" >Experiment details</a>."
      ],
      "text/plain": [
       "<IPython.core.display.HTML object>"
      ]
     },
     "metadata": {},
     "output_type": "display_data"
    },
    {
     "data": {
      "text/html": [
       "<a href=\"https://k8s.tt/pipeline/#/runs/details/ab7c0957-4fa5-4f67-ad9b-f819809347cd\" target=\"_blank\" >Run details</a>."
      ],
      "text/plain": [
       "<IPython.core.display.HTML object>"
      ]
     },
     "metadata": {},
     "output_type": "display_data"
    },
    {
     "data": {
      "text/plain": [
       "RunPipelineResult(run_id=ab7c0957-4fa5-4f67-ad9b-f819809347cd)"
      ]
     },
     "execution_count": 93,
     "metadata": {},
     "output_type": "execute_result"
    }
   ],
   "source": [
    "@func_to_container_op\n",
    "def get_item_from_list(list_of_strings: list, index: int) -> str:\n",
    "    return list_of_strings[index]\n",
    "\n",
    "@func_to_container_op\n",
    "def truncate_text(text: str, max_length: int) -> str:\n",
    "    return text[0:max_length]\n",
    "\n",
    "def processing_pipeline(text: str = \"Hello world\"):\n",
    "    truncate_task = truncate_text(text, max_length=5)\n",
    "    get_item_task = get_item_from_list(list_of_strings=[3, 1, truncate_task.output, 1, 5, 9, 2, 6, 7], index=2)\n",
    "    print_small_text(get_item_task.output)\n",
    "\n",
    "\n",
    "client.create_run_from_pipeline_func(processing_pipeline, arguments={})"
   ]
  },
  {
   "cell_type": "markdown",
   "metadata": {},
   "source": [
    "## Bigger data (files)\n",
    "\n",
    "Bigger data should be read from files and written to files.\n",
    "\n",
    "The paths for the input and output files are chosen by the system and are passed into the function (as strings).\n",
    "\n",
    "Use the `InputPath` parameter annotation to tell the system that the function wants to consume the corresponding input data as a file. The system will download the data, write it to a local file and then pass the **path** of that file to the function.\n",
    "\n",
    "Use the `OutputPath` parameter annotation to tell the system that the function wants to produce the corresponding output data as a file. The system will prepare and pass the **path** of a file where the function should write the output data. After the function exits, the system will upload the data to the storage system so that it can be passed to downstream components.\n",
    "\n",
    "You can specify the type of the consumed/produced data by specifying the type argument to `InputPath` and `OutputPath`. The type can be a python type or an arbitrary type name string. `OutputPath('TFModel')` means that the function states that the data it has written to a file has type 'TFModel'. `InputPath('TFModel')` means that the function states that it expect the data it reads from a file to have type 'TFModel'. When the pipeline author connects inputs to outputs the system checks whether the types match.\n",
    "\n",
    "Note on input/output names: When the function is converted to component, the input and output names generally follow the parameter names, but the \"\\_path\" and \"\\_file\" suffixes are stripped from file/path inputs and outputs. E.g. the `number_file_path: InputPath(int)` parameter becomes the `number: int` input. This makes the argument passing look more natural: `number=42` instead of `number_file_path=42`."
   ]
  },
  {
   "cell_type": "markdown",
   "metadata": {},
   "source": [
    "\n",
    "### Writing and reading bigger data"
   ]
  },
  {
   "cell_type": "code",
   "execution_count": 8,
   "metadata": {},
   "outputs": [
    {
     "data": {
      "text/html": [
       "<a href=\"https://kubeflow.k8s.tt/pipeline/#/experiments/details/70e30e86-93ae-48b0-a8d8-adfe84a3a34d\" target=\"_blank\" >Experiment details</a>."
      ],
      "text/plain": [
       "<IPython.core.display.HTML object>"
      ]
     },
     "metadata": {},
     "output_type": "display_data"
    },
    {
     "data": {
      "text/html": [
       "<a href=\"https://kubeflow.k8s.tt/pipeline/#/runs/details/4437c04f-5134-4f7f-a871-1bcd07d5e093\" target=\"_blank\" >Run details</a>."
      ],
      "text/plain": [
       "<IPython.core.display.HTML object>"
      ]
     },
     "metadata": {},
     "output_type": "display_data"
    },
    {
     "data": {
      "text/plain": [
       "RunPipelineResult(run_id=4437c04f-5134-4f7f-a871-1bcd07d5e093)"
      ]
     },
     "execution_count": 8,
     "metadata": {},
     "output_type": "execute_result"
    }
   ],
   "source": [
    "# Writing bigger data\n",
    "@func_to_container_op\n",
    "def repeat_line(line: str, output_text_path: OutputPath(str), count: int = 10):\n",
    "    '''Repeat the line specified number of times'''\n",
    "    with open(output_text_path, 'w') as writer:\n",
    "        for i in range(count):\n",
    "            writer.write(line + '\\n')\n",
    "\n",
    "\n",
    "# Reading bigger data\n",
    "@func_to_container_op\n",
    "def print_text(text_path: InputPath()): # The \"text\" input is untyped so that any data can be printed\n",
    "    '''Print text'''\n",
    "    with open(text_path, 'r') as reader:\n",
    "        for line in reader:\n",
    "            print(line, end = '')\n",
    "\n",
    "def print_repeating_lines_pipeline():\n",
    "    repeat_lines_task = repeat_line(line='Hello', count=5000)\n",
    "    print_text(repeat_lines_task.output) # Don't forget .output !\n",
    "\n",
    "client.create_run_from_pipeline_func(print_repeating_lines_pipeline, arguments={})"
   ]
  },
  {
   "cell_type": "markdown",
   "metadata": {},
   "source": [
    "### Processing bigger data"
   ]
  },
  {
   "cell_type": "code",
   "execution_count": 95,
   "metadata": {},
   "outputs": [
    {
     "data": {
      "text/html": [
       "<a href=\"https://k8s.tt/pipeline/#/experiments/details/59d88dd9-1c44-4361-a470-34e892443a32\" target=\"_blank\" >Experiment details</a>."
      ],
      "text/plain": [
       "<IPython.core.display.HTML object>"
      ]
     },
     "metadata": {},
     "output_type": "display_data"
    },
    {
     "data": {
      "text/html": [
       "<a href=\"https://k8s.tt/pipeline/#/runs/details/894ffa49-4888-4711-9663-2ebda68f7d19\" target=\"_blank\" >Run details</a>."
      ],
      "text/plain": [
       "<IPython.core.display.HTML object>"
      ]
     },
     "metadata": {},
     "output_type": "display_data"
    },
    {
     "data": {
      "text/plain": [
       "RunPipelineResult(run_id=894ffa49-4888-4711-9663-2ebda68f7d19)"
      ]
     },
     "execution_count": 95,
     "metadata": {},
     "output_type": "execute_result"
    }
   ],
   "source": [
    "@func_to_container_op\n",
    "def split_text_lines(source_path: InputPath(str), odd_lines_path: OutputPath(str), even_lines_path: OutputPath(str)):\n",
    "    with open(source_path, 'r') as reader:\n",
    "        with open(odd_lines_path, 'w') as odd_writer:\n",
    "            with open(even_lines_path, 'w') as even_writer:\n",
    "                while True:\n",
    "                    line = reader.readline()\n",
    "                    if line == \"\":\n",
    "                        break\n",
    "                    odd_writer.write(line)\n",
    "                    line = reader.readline()\n",
    "                    if line == \"\":\n",
    "                        break\n",
    "                    even_writer.write(line)\n",
    "\n",
    "def text_splitting_pipeline():\n",
    "    text = '\\n'.join(['one', 'two', 'three', 'four', 'five', 'six', 'seven', 'eight', 'nine', 'ten'])\n",
    "    split_text_task = split_text_lines(text)\n",
    "    print_text(split_text_task.outputs['odd_lines'])\n",
    "    print_text(split_text_task.outputs['even_lines'])\n",
    "\n",
    "client.create_run_from_pipeline_func(text_splitting_pipeline, arguments={})"
   ]
  },
  {
   "cell_type": "markdown",
   "metadata": {},
   "source": [
    "### Processing bigger data with pre-opened files"
   ]
  },
  {
   "cell_type": "code",
   "execution_count": 96,
   "metadata": {},
   "outputs": [
    {
     "data": {
      "text/html": [
       "<a href=\"https://k8s.tt/pipeline/#/experiments/details/59d88dd9-1c44-4361-a470-34e892443a32\" target=\"_blank\" >Experiment details</a>."
      ],
      "text/plain": [
       "<IPython.core.display.HTML object>"
      ]
     },
     "metadata": {},
     "output_type": "display_data"
    },
    {
     "data": {
      "text/html": [
       "<a href=\"https://k8s.tt/pipeline/#/runs/details/d6c9a13a-a9a2-4aec-b208-8c80be1d77c3\" target=\"_blank\" >Run details</a>."
      ],
      "text/plain": [
       "<IPython.core.display.HTML object>"
      ]
     },
     "metadata": {},
     "output_type": "display_data"
    },
    {
     "data": {
      "text/plain": [
       "RunPipelineResult(run_id=d6c9a13a-a9a2-4aec-b208-8c80be1d77c3)"
      ]
     },
     "execution_count": 96,
     "metadata": {},
     "output_type": "execute_result"
    }
   ],
   "source": [
    "@func_to_container_op\n",
    "def split_text_lines2(source_file: InputTextFile(str), odd_lines_file: OutputTextFile(str), even_lines_file: OutputTextFile(str)):\n",
    "    while True:\n",
    "        line = source_file.readline()\n",
    "        if line == \"\":\n",
    "            break\n",
    "        odd_lines_file.write(line)\n",
    "        line = source_file.readline()\n",
    "        if line == \"\":\n",
    "            break\n",
    "        even_lines_file.write(line)\n",
    "\n",
    "def text_splitting_pipeline2():\n",
    "    text = '\\n'.join(['one', 'two', 'three', 'four', 'five', 'six', 'seven', 'eight', 'nine', 'ten'])\n",
    "    split_text_task = split_text_lines2(text)\n",
    "    print_text(split_text_task.outputs['odd_lines']).set_display_name('Odd lines')\n",
    "    print_text(split_text_task.outputs['even_lines']).set_display_name('Even lines')\n",
    "\n",
    "client.create_run_from_pipeline_func(text_splitting_pipeline2, arguments={})"
   ]
  },
  {
   "cell_type": "code",
   "execution_count": null,
   "metadata": {},
   "outputs": [],
   "source": []
  },
  {
   "cell_type": "markdown",
   "metadata": {},
   "source": [
    "### Example: Pipeline that generates then sums many numbers"
   ]
  },
  {
   "cell_type": "code",
   "execution_count": 22,
   "metadata": {},
   "outputs": [
    {
     "ename": "NameError",
     "evalue": "name 'print_text' is not defined",
     "output_type": "error",
     "traceback": [
      "\u001b[0;31m---------------------------------------------------------------------------\u001b[0m",
      "\u001b[0;31mNameError\u001b[0m                                 Traceback (most recent call last)",
      "\u001b[0;32m/tmp/ipykernel_543900/558431750.py\u001b[0m in \u001b[0;36m<module>\u001b[0;34m\u001b[0m\n\u001b[1;32m     28\u001b[0m \u001b[0;34m\u001b[0m\u001b[0m\n\u001b[1;32m     29\u001b[0m \u001b[0;31m# Running the pipeline\u001b[0m\u001b[0;34m\u001b[0m\u001b[0;34m\u001b[0m\u001b[0;34m\u001b[0m\u001b[0m\n\u001b[0;32m---> 30\u001b[0;31m \u001b[0mclient\u001b[0m\u001b[0;34m.\u001b[0m\u001b[0mcreate_run_from_pipeline_func\u001b[0m\u001b[0;34m(\u001b[0m\u001b[0msum_pipeline\u001b[0m\u001b[0;34m,\u001b[0m \u001b[0marguments\u001b[0m\u001b[0;34m=\u001b[0m\u001b[0;34m{\u001b[0m\u001b[0;34m}\u001b[0m\u001b[0;34m)\u001b[0m\u001b[0;34m\u001b[0m\u001b[0;34m\u001b[0m\u001b[0m\n\u001b[0m",
      "\u001b[0;32m~/miniconda3/envs/vscode/lib/python3.8/site-packages/kfp/_client.py\u001b[0m in \u001b[0;36mcreate_run_from_pipeline_func\u001b[0;34m(self, pipeline_func, arguments, run_name, experiment_name, pipeline_conf, namespace, mode, launcher_image, pipeline_root, enable_caching)\u001b[0m\n\u001b[1;32m    879\u001b[0m     \u001b[0;32mwith\u001b[0m \u001b[0mtempfile\u001b[0m\u001b[0;34m.\u001b[0m\u001b[0mTemporaryDirectory\u001b[0m\u001b[0;34m(\u001b[0m\u001b[0;34m)\u001b[0m \u001b[0;32mas\u001b[0m \u001b[0mtmpdir\u001b[0m\u001b[0;34m:\u001b[0m\u001b[0;34m\u001b[0m\u001b[0;34m\u001b[0m\u001b[0m\n\u001b[1;32m    880\u001b[0m       \u001b[0mpipeline_package_path\u001b[0m \u001b[0;34m=\u001b[0m \u001b[0mos\u001b[0m\u001b[0;34m.\u001b[0m\u001b[0mpath\u001b[0m\u001b[0;34m.\u001b[0m\u001b[0mjoin\u001b[0m\u001b[0;34m(\u001b[0m\u001b[0mtmpdir\u001b[0m\u001b[0;34m,\u001b[0m \u001b[0;34m'pipeline.yaml'\u001b[0m\u001b[0;34m)\u001b[0m\u001b[0;34m\u001b[0m\u001b[0;34m\u001b[0m\u001b[0m\n\u001b[0;32m--> 881\u001b[0;31m       compiler.Compiler(mode=mode, launcher_image=launcher_image).compile(\n\u001b[0m\u001b[1;32m    882\u001b[0m         \u001b[0mpipeline_func\u001b[0m\u001b[0;34m=\u001b[0m\u001b[0mpipeline_func\u001b[0m\u001b[0;34m,\u001b[0m\u001b[0;34m\u001b[0m\u001b[0;34m\u001b[0m\u001b[0m\n\u001b[1;32m    883\u001b[0m         \u001b[0mpackage_path\u001b[0m\u001b[0;34m=\u001b[0m\u001b[0mpipeline_package_path\u001b[0m\u001b[0;34m,\u001b[0m\u001b[0;34m\u001b[0m\u001b[0;34m\u001b[0m\u001b[0m\n",
      "\u001b[0;32m~/miniconda3/envs/vscode/lib/python3.8/site-packages/kfp/compiler/compiler.py\u001b[0m in \u001b[0;36mcompile\u001b[0;34m(self, pipeline_func, package_path, type_check, pipeline_conf)\u001b[0m\n\u001b[1;32m   1059\u001b[0m     \u001b[0;32mtry\u001b[0m\u001b[0;34m:\u001b[0m\u001b[0;34m\u001b[0m\u001b[0;34m\u001b[0m\u001b[0m\n\u001b[1;32m   1060\u001b[0m       \u001b[0mkfp\u001b[0m\u001b[0;34m.\u001b[0m\u001b[0mTYPE_CHECK\u001b[0m \u001b[0;34m=\u001b[0m \u001b[0mtype_check\u001b[0m\u001b[0;34m\u001b[0m\u001b[0;34m\u001b[0m\u001b[0m\n\u001b[0;32m-> 1061\u001b[0;31m       self._create_and_write_workflow(\n\u001b[0m\u001b[1;32m   1062\u001b[0m           \u001b[0mpipeline_func\u001b[0m\u001b[0;34m=\u001b[0m\u001b[0mpipeline_func\u001b[0m\u001b[0;34m,\u001b[0m\u001b[0;34m\u001b[0m\u001b[0;34m\u001b[0m\u001b[0m\n\u001b[1;32m   1063\u001b[0m           \u001b[0mpipeline_conf\u001b[0m\u001b[0;34m=\u001b[0m\u001b[0mpipeline_conf\u001b[0m\u001b[0;34m,\u001b[0m\u001b[0;34m\u001b[0m\u001b[0;34m\u001b[0m\u001b[0m\n",
      "\u001b[0;32m~/miniconda3/envs/vscode/lib/python3.8/site-packages/kfp/compiler/compiler.py\u001b[0m in \u001b[0;36m_create_and_write_workflow\u001b[0;34m(self, pipeline_func, pipeline_name, pipeline_description, params_list, pipeline_conf, package_path)\u001b[0m\n\u001b[1;32m   1112\u001b[0m   ) -> None:\n\u001b[1;32m   1113\u001b[0m     \u001b[0;34m\"\"\"Compile the given pipeline function and dump it to specified file format.\"\"\"\u001b[0m\u001b[0;34m\u001b[0m\u001b[0;34m\u001b[0m\u001b[0m\n\u001b[0;32m-> 1114\u001b[0;31m     workflow = self._create_workflow(\n\u001b[0m\u001b[1;32m   1115\u001b[0m         \u001b[0mpipeline_func\u001b[0m\u001b[0;34m,\u001b[0m\u001b[0;34m\u001b[0m\u001b[0;34m\u001b[0m\u001b[0m\n\u001b[1;32m   1116\u001b[0m         \u001b[0mpipeline_name\u001b[0m\u001b[0;34m,\u001b[0m\u001b[0;34m\u001b[0m\u001b[0;34m\u001b[0m\u001b[0m\n",
      "\u001b[0;32m~/miniconda3/envs/vscode/lib/python3.8/site-packages/kfp/compiler/compiler.py\u001b[0m in \u001b[0;36m_create_workflow\u001b[0;34m(self, pipeline_func, pipeline_name, pipeline_description, params_list, pipeline_conf)\u001b[0m\n\u001b[1;32m    898\u001b[0m \u001b[0;34m\u001b[0m\u001b[0m\n\u001b[1;32m    899\u001b[0m     \u001b[0;32mwith\u001b[0m \u001b[0mdsl\u001b[0m\u001b[0;34m.\u001b[0m\u001b[0mPipeline\u001b[0m\u001b[0;34m(\u001b[0m\u001b[0mpipeline_name\u001b[0m\u001b[0;34m)\u001b[0m \u001b[0;32mas\u001b[0m \u001b[0mdsl_pipeline\u001b[0m\u001b[0;34m:\u001b[0m\u001b[0;34m\u001b[0m\u001b[0;34m\u001b[0m\u001b[0m\n\u001b[0;32m--> 900\u001b[0;31m       \u001b[0mpipeline_func\u001b[0m\u001b[0;34m(\u001b[0m\u001b[0;34m*\u001b[0m\u001b[0margs_list\u001b[0m\u001b[0;34m,\u001b[0m \u001b[0;34m**\u001b[0m\u001b[0mkwargs_dict\u001b[0m\u001b[0;34m)\u001b[0m\u001b[0;34m\u001b[0m\u001b[0;34m\u001b[0m\u001b[0m\n\u001b[0m\u001b[1;32m    901\u001b[0m \u001b[0;34m\u001b[0m\u001b[0m\n\u001b[1;32m    902\u001b[0m     \u001b[0mpipeline_conf\u001b[0m \u001b[0;34m=\u001b[0m \u001b[0mpipeline_conf\u001b[0m \u001b[0;32mor\u001b[0m \u001b[0mdsl_pipeline\u001b[0m\u001b[0;34m.\u001b[0m\u001b[0mconf\u001b[0m \u001b[0;31m# Configuration passed to the compiler is overriding. Unfortunately, it's not trivial to detect whether the dsl_pipeline.conf was ever modified.\u001b[0m\u001b[0;34m\u001b[0m\u001b[0;34m\u001b[0m\u001b[0m\n",
      "\u001b[0;32m/tmp/ipykernel_543900/558431750.py\u001b[0m in \u001b[0;36msum_pipeline\u001b[0;34m(count)\u001b[0m\n\u001b[1;32m     21\u001b[0m \u001b[0;32mdef\u001b[0m \u001b[0msum_pipeline\u001b[0m\u001b[0;34m(\u001b[0m\u001b[0mcount\u001b[0m\u001b[0;34m:\u001b[0m \u001b[0;34m'Integer'\u001b[0m \u001b[0;34m=\u001b[0m \u001b[0;36m100000\u001b[0m\u001b[0;34m)\u001b[0m\u001b[0;34m:\u001b[0m\u001b[0;34m\u001b[0m\u001b[0;34m\u001b[0m\u001b[0m\n\u001b[1;32m     22\u001b[0m     \u001b[0mnumbers_task\u001b[0m \u001b[0;34m=\u001b[0m \u001b[0mwrite_numbers\u001b[0m\u001b[0;34m(\u001b[0m\u001b[0mcount\u001b[0m\u001b[0;34m=\u001b[0m\u001b[0mcount\u001b[0m\u001b[0;34m)\u001b[0m\u001b[0;34m\u001b[0m\u001b[0;34m\u001b[0m\u001b[0m\n\u001b[0;32m---> 23\u001b[0;31m     \u001b[0mprint_text\u001b[0m\u001b[0;34m(\u001b[0m\u001b[0mnumbers_task\u001b[0m\u001b[0;34m.\u001b[0m\u001b[0moutput\u001b[0m\u001b[0;34m)\u001b[0m\u001b[0;34m\u001b[0m\u001b[0;34m\u001b[0m\u001b[0m\n\u001b[0m\u001b[1;32m     24\u001b[0m \u001b[0;34m\u001b[0m\u001b[0m\n\u001b[1;32m     25\u001b[0m     \u001b[0msum_task\u001b[0m \u001b[0;34m=\u001b[0m \u001b[0msum_numbers\u001b[0m\u001b[0;34m(\u001b[0m\u001b[0mnumbers_task\u001b[0m\u001b[0;34m.\u001b[0m\u001b[0moutputs\u001b[0m\u001b[0;34m[\u001b[0m\u001b[0;34m'numbers'\u001b[0m\u001b[0;34m]\u001b[0m\u001b[0;34m)\u001b[0m\u001b[0;34m\u001b[0m\u001b[0;34m\u001b[0m\u001b[0m\n",
      "\u001b[0;31mNameError\u001b[0m: name 'print_text' is not defined"
     ]
    }
   ],
   "source": [
    "# Writing many numbers\n",
    "@func_to_container_op\n",
    "def write_numbers(numbers_path: OutputPath(str), start: int = 0, count: int = 10):\n",
    "    with open(numbers_path, 'w') as writer:\n",
    "        for i in range(start, count):\n",
    "            writer.write(str(i) + '\\n')\n",
    "\n",
    "\n",
    "# Reading and summing many numbers\n",
    "@func_to_container_op\n",
    "def sum_numbers(numbers_path: InputPath(str)) -> int:\n",
    "    sum = 0\n",
    "    with open(numbers_path, 'r') as reader:\n",
    "        for line in reader:\n",
    "            sum = sum + int(line)\n",
    "    return sum\n",
    "\n",
    "\n",
    "\n",
    "# Pipeline to sum 100000 numbers\n",
    "def sum_pipeline(count: 'Integer' = 100000):\n",
    "    numbers_task = write_numbers(count=count)\n",
    "    print_text(numbers_task.output)\n",
    "\n",
    "    sum_task = sum_numbers(numbers_task.outputs['numbers'])\n",
    "    print_text(sum_task.output)\n",
    "\n",
    "\n",
    "# Running the pipeline\n",
    "client.create_run_from_pipeline_func(sum_pipeline, arguments={})"
   ]
  },
  {
   "cell_type": "code",
   "execution_count": 109,
   "metadata": {},
   "outputs": [
    {
     "name": "stderr",
     "output_type": "stream",
     "text": [
      "/home/tidu/miniconda3/envs/kubeflow/lib/python3.8/site-packages/kfp/compiler/compiler.py:79: UserWarning: V2_COMPATIBLE execution mode is at Beta quality. Some pipeline features may not work as expected.\n",
      "  warnings.warn('V2_COMPATIBLE execution mode is at Beta quality.'\n"
     ]
    },
    {
     "data": {
      "text/html": [
       "<a href=\"https://k8s.tt/pipeline/#/experiments/details/59d88dd9-1c44-4361-a470-34e892443a32\" target=\"_blank\" >Experiment details</a>."
      ],
      "text/plain": [
       "<IPython.core.display.HTML object>"
      ]
     },
     "metadata": {},
     "output_type": "display_data"
    },
    {
     "data": {
      "text/html": [
       "<a href=\"https://k8s.tt/pipeline/#/runs/details/7326ff5f-93ad-4828-b950-ca837f1d29e0\" target=\"_blank\" >Run details</a>."
      ],
      "text/plain": [
       "<IPython.core.display.HTML object>"
      ]
     },
     "metadata": {},
     "output_type": "display_data"
    },
    {
     "data": {
      "text/plain": [
       "RunPipelineResult(run_id=7326ff5f-93ad-4828-b950-ca837f1d29e0)"
      ]
     },
     "execution_count": 109,
     "metadata": {},
     "output_type": "execute_result"
    }
   ],
   "source": [
    "import kfp\n",
    "from kfp.v2.dsl import pipeline, component, Output, Metrics, Artifact, Input\n",
    "\n",
    "\n",
    "@component(base_image='python:3')\n",
    "def square(x: int, metrics: Output[Metrics], data: Output[Artifact]):\n",
    "    metrics.log_metric('test_metrics', 1)\n",
    "    metrics.log_metric(f'{x} squared', x**2)\n",
    "    print(f'{x} squared is {x**2}')\n",
    "    \n",
    "    with open(data.path, 'w') as f:\n",
    "        f.write(\"Hello World\")\n",
    "\n",
    "\n",
    "@pipeline(name='example pipeline')\n",
    "def example_pipeline():\n",
    "    square(4)\n",
    "\n",
    "client.create_run_from_pipeline_func(\n",
    "    example_pipeline, arguments={}, run_name='Example run v2 compat again',\n",
    "    experiment_name='Default', enable_caching=False,\n",
    "    mode=kfp.dsl.PipelineExecutionMode.V2_COMPATIBLE\n",
    ")\n"
   ]
  },
  {
   "cell_type": "code",
   "execution_count": 145,
   "metadata": {},
   "outputs": [
    {
     "name": "stderr",
     "output_type": "stream",
     "text": [
      "/home/tidu/miniconda3/envs/kubeflow/lib/python3.8/site-packages/kfp/compiler/compiler.py:79: UserWarning: V2_COMPATIBLE execution mode is at Beta quality. Some pipeline features may not work as expected.\n",
      "  warnings.warn('V2_COMPATIBLE execution mode is at Beta quality.'\n"
     ]
    },
    {
     "data": {
      "text/html": [
       "<a href=\"https://k8s.tt/pipeline/#/experiments/details/59d88dd9-1c44-4361-a470-34e892443a32\" target=\"_blank\" >Experiment details</a>."
      ],
      "text/plain": [
       "<IPython.core.display.HTML object>"
      ]
     },
     "metadata": {},
     "output_type": "display_data"
    },
    {
     "data": {
      "text/html": [
       "<a href=\"https://k8s.tt/pipeline/#/runs/details/87be4802-e18c-47e1-b8d4-5aeff00f286b\" target=\"_blank\" >Run details</a>."
      ],
      "text/plain": [
       "<IPython.core.display.HTML object>"
      ]
     },
     "metadata": {},
     "output_type": "display_data"
    },
    {
     "data": {
      "text/plain": [
       "RunPipelineResult(run_id=87be4802-e18c-47e1-b8d4-5aeff00f286b)"
      ]
     },
     "execution_count": 145,
     "metadata": {},
     "output_type": "execute_result"
    }
   ],
   "source": [
    "import kfp\n",
    "from kfp.v2.dsl import pipeline, component, Output, Metrics, Artifact, Input, InputPath, OutputPath, ClassificationMetrics\n",
    "\n",
    "\n",
    "# Writing many numbers\n",
    "@component\n",
    "def write_numbers(numbers_path: Output[Artifact], start: int = 0, count: int = 10):\n",
    "    with open(numbers_path.path, 'w') as writer:\n",
    "        for i in range(start, count):\n",
    "            writer.write(str(i) + '\\n')\n",
    "\n",
    "\n",
    "# Reading and summing many numbers\n",
    "@component\n",
    "def sum_numbers(numbers_path: Input[Artifact], sum_res: Output[Artifact]):\n",
    "    sum = 0\n",
    "    with open(numbers_path.path, 'r') as reader:\n",
    "        for line in reader:\n",
    "            sum = sum + int(line)\n",
    "    with open(sum_res.path, 'w') as writer:\n",
    "        writer.write(str(sum))\n",
    "\n",
    "@component\n",
    "def print_text(text_path: Input[Artifact]): # The \"text\" input is untyped so that any data can be printed\n",
    "    '''Print text'''\n",
    "    with open(text_path.path, 'r') as reader:\n",
    "        for line in reader:\n",
    "            print(line, end = '')\n",
    "\n",
    "\n",
    "\n",
    "# Pipeline to sum 100000 numbers\n",
    "@pipeline(name='sum pipeline')\n",
    "def sum_pipeline(count: 'Integer' = 100000):\n",
    "    numbers_task = write_numbers(count=count)\n",
    "    print_text(numbers_task.output)\n",
    "\n",
    "    sum_task = sum_numbers(numbers_task.output)\n",
    "    print_text(sum_task.outputs['sum_res'])\n",
    "\n",
    "\n",
    "# Running the pipeline\n",
    "client.create_run_from_pipeline_func(sum_pipeline, arguments={}, mode=kfp.dsl.PipelineExecutionMode.V2_COMPATIBLE, pipeline_root='minio://tidu/pipelines-1')"
   ]
  },
  {
   "cell_type": "code",
   "execution_count": 21,
   "metadata": {},
   "outputs": [
    {
     "ename": "NameError",
     "evalue": "name 'component' is not defined",
     "output_type": "error",
     "traceback": [
      "\u001b[0;31m---------------------------------------------------------------------------\u001b[0m",
      "\u001b[0;31mNameError\u001b[0m                                 Traceback (most recent call last)",
      "\u001b[0;32m/tmp/ipykernel_543900/1321780922.py\u001b[0m in \u001b[0;36m<module>\u001b[0;34m\u001b[0m\n\u001b[0;32m----> 1\u001b[0;31m @component(\n\u001b[0m\u001b[1;32m      2\u001b[0m     \u001b[0mpackages_to_install\u001b[0m\u001b[0;34m=\u001b[0m\u001b[0;34m[\u001b[0m\u001b[0;34m'sklearn'\u001b[0m\u001b[0;34m]\u001b[0m\u001b[0;34m,\u001b[0m\u001b[0;34m\u001b[0m\u001b[0;34m\u001b[0m\u001b[0m\n\u001b[1;32m      3\u001b[0m     \u001b[0mbase_image\u001b[0m\u001b[0;34m=\u001b[0m\u001b[0;34m'python:3.9'\u001b[0m\u001b[0;34m\u001b[0m\u001b[0;34m\u001b[0m\u001b[0m\n\u001b[1;32m      4\u001b[0m )\n\u001b[1;32m      5\u001b[0m \u001b[0;32mdef\u001b[0m \u001b[0miris_sgdclassifier\u001b[0m\u001b[0;34m(\u001b[0m\u001b[0mtest_samples_fraction\u001b[0m\u001b[0;34m:\u001b[0m \u001b[0mfloat\u001b[0m\u001b[0;34m,\u001b[0m \u001b[0mmetrics\u001b[0m\u001b[0;34m:\u001b[0m \u001b[0mOutput\u001b[0m\u001b[0;34m[\u001b[0m\u001b[0mClassificationMetrics\u001b[0m\u001b[0;34m]\u001b[0m\u001b[0;34m)\u001b[0m\u001b[0;34m:\u001b[0m\u001b[0;34m\u001b[0m\u001b[0;34m\u001b[0m\u001b[0m\n",
      "\u001b[0;31mNameError\u001b[0m: name 'component' is not defined"
     ]
    }
   ],
   "source": [
    "@component(\n",
    "    packages_to_install=['sklearn'],\n",
    "    base_image='python:3.9'\n",
    ")\n",
    "def iris_sgdclassifier(test_samples_fraction: float, metrics: Output[ClassificationMetrics]):\n",
    "    from sklearn import datasets, model_selection\n",
    "    from sklearn.linear_model import SGDClassifier\n",
    "    from sklearn.tree import DecisionTreeClassifier\n",
    "    from sklearn.metrics import confusion_matrix\n",
    "\n",
    "    iris_dataset = datasets.load_iris()\n",
    "    train_x, test_x, train_y, test_y = model_selection.train_test_split(\n",
    "        iris_dataset['data'], iris_dataset['target'], test_size=test_samples_fraction)\n",
    "\n",
    "\n",
    "    classifier = DecisionTreeClassifier()\n",
    "    classifier.fit(train_x, train_y)\n",
    "    predictions = model_selection.cross_val_predict(classifier, train_x, train_y, cv=3)\n",
    "    metrics.log_confusion_matrix(\n",
    "        ['Setosa', 'Versicolour', 'Virginica'],\n",
    "        confusion_matrix(train_y, predictions).tolist() # .tolist() to convert np array to list.\n",
    "    )\n",
    "\n",
    "@pipeline(\n",
    "    name='metrics-visualization-pipeline')\n",
    "def metrics_visualization_pipeline():\n",
    "    iris_sgdclassifier_op = iris_sgdclassifier(test_samples_fraction=0.3)\n",
    "\n",
    "client.create_run_from_pipeline_func(metrics_visualization_pipeline, arguments={}, mode=kfp.dsl.PipelineExecutionMode.V2_COMPATIBLE, pipeline_root='minio://tidu/pipelines-1')"
   ]
  },
  {
   "cell_type": "code",
   "execution_count": 6,
   "metadata": {},
   "outputs": [
    {
     "name": "stdout",
     "output_type": "stream",
     "text": [
      "{'Accept': 'application/json', 'kubeflow-userid': 'tidu.nguyen.2000@gmail.com', 'User-Agent': 'OpenAPI-Generator/1.7.0/python', 'Content-Type': 'application/json'}\n",
      "{'Accept': 'application/json', 'Content-Type': 'application/json', 'kubeflow-userid': 'tidu.nguyen.2000@gmail.com', 'User-Agent': 'OpenAPI-Generator/1.7.0/python'}\n"
     ]
    },
    {
     "name": "stderr",
     "output_type": "stream",
     "text": [
      "/home/tidu/miniconda3/envs/kubeflow/lib/python3.8/site-packages/kfp/compiler/compiler.py:79: UserWarning: V2_COMPATIBLE execution mode is at Beta quality. Some pipeline features may not work as expected.\n",
      "  warnings.warn('V2_COMPATIBLE execution mode is at Beta quality.'\n"
     ]
    },
    {
     "data": {
      "text/html": [
       "<a href=\"https://k8s.tt/pipeline/#/experiments/details/4ebe087d-574f-40d3-881f-227b3bff4590\" target=\"_blank\" >Experiment details</a>."
      ],
      "text/plain": [
       "<IPython.core.display.HTML object>"
      ]
     },
     "metadata": {},
     "output_type": "display_data"
    },
    {
     "name": "stdout",
     "output_type": "stream",
     "text": [
      "{'Accept': 'application/json', 'Content-Type': 'application/json', 'kubeflow-userid': 'tidu.nguyen.2000@gmail.com', 'User-Agent': 'OpenAPI-Generator/1.7.0/python'}\n"
     ]
    },
    {
     "data": {
      "text/html": [
       "<a href=\"https://k8s.tt/pipeline/#/runs/details/23001ffe-14fc-4720-ab8a-76c2bc455eea\" target=\"_blank\" >Run details</a>."
      ],
      "text/plain": [
       "<IPython.core.display.HTML object>"
      ]
     },
     "metadata": {},
     "output_type": "display_data"
    },
    {
     "data": {
      "text/plain": [
       "RunPipelineResult(run_id=23001ffe-14fc-4720-ab8a-76c2bc455eea)"
      ]
     },
     "execution_count": 6,
     "metadata": {},
     "output_type": "execute_result"
    }
   ],
   "source": [
    "import kfp\n",
    "from kfp.v2.dsl import pipeline, component, Output, Metrics, Artifact, Input, InputPath, OutputPath, ClassificationMetrics, Model\n",
    "\n",
    "@component(\n",
    "    packages_to_install=['sklearn', 'joblib'],\n",
    "    base_image='python:3.9'\n",
    ")\n",
    "def train_sklearn(model: Output[Model]):\n",
    "    from sklearn import svm\n",
    "    from sklearn import datasets\n",
    "    from joblib import dump\n",
    "\n",
    "    iris = datasets.load_iris()\n",
    "    X, y = iris.data, iris.target\n",
    "\n",
    "    clf = svm.SVC(gamma='scale')\n",
    "    clf.fit(X, y)\n",
    "    dump(clf, model.path)\n",
    "    \n",
    "@pipeline(\n",
    "    name='sklearn-deploy')\n",
    "def sklearn_pipeline():\n",
    "    sk_op = train_sklearn()\n",
    "\n",
    "client.create_run_from_pipeline_func(sklearn_pipeline, arguments={}, mode=kfp.dsl.PipelineExecutionMode.V2_COMPATIBLE, pipeline_root='minio://tidu/pipelines-1')\n",
    "\n"
   ]
  },
  {
   "cell_type": "code",
   "execution_count": 8,
   "metadata": {},
   "outputs": [
    {
     "data": {
      "text/html": [
       "<a href=\"https://kubeflow.k8s.tidu.live/pipeline/#/experiments/details/e789682c-f19c-483d-82b4-41e377e616f4\" target=\"_blank\" >Experiment details</a>."
      ],
      "text/plain": [
       "<IPython.core.display.HTML object>"
      ]
     },
     "metadata": {},
     "output_type": "display_data"
    },
    {
     "data": {
      "text/html": [
       "<a href=\"https://kubeflow.k8s.tidu.live/pipeline/#/runs/details/37268558-bca1-46c6-ab3e-387ac4f026f7\" target=\"_blank\" >Run details</a>."
      ],
      "text/plain": [
       "<IPython.core.display.HTML object>"
      ]
     },
     "metadata": {},
     "output_type": "display_data"
    },
    {
     "data": {
      "text/plain": [
       "RunPipelineResult(run_id=37268558-bca1-46c6-ab3e-387ac4f026f7)"
      ]
     },
     "execution_count": 8,
     "metadata": {},
     "output_type": "execute_result"
    }
   ],
   "source": [
    "import kfp\n",
    "\n",
    "# @func_to_container_op\n",
    "# def repeat_line(line: str, output_text_path: OutputPath(str), count: int = 10):\n",
    "#     '''Repeat the line specified number of times'''\n",
    "#     with open(output_text_path, 'w') as writer:\n",
    "#         for i in range(count):\n",
    "#             writer.write(line + '\\n')\n",
    "\n",
    "def train_sklearn(model_path: OutputPath()):\n",
    "    from sklearn import svm\n",
    "    from sklearn import datasets\n",
    "    from joblib import dump\n",
    "\n",
    "    iris = datasets.load_iris()\n",
    "    X, y = iris.data, iris.target\n",
    "\n",
    "    clf = svm.SVC(gamma='scale')\n",
    "    clf.fit(X, y)\n",
    "\n",
    "    dump(clf, model_path)\n",
    "\n",
    "def sklearn_pipeline():\n",
    "    sk_op = func_to_container_op(\n",
    "    train_sklearn,\n",
    "    packages_to_install=['sklearn', 'joblib'],\n",
    "    base_image='python:3.9'\n",
    "    )()\n",
    "\n",
    "client.create_run_from_pipeline_func(sklearn_pipeline, arguments={})\n"
   ]
  }
 ],
 "metadata": {
  "interpreter": {
   "hash": "a51e35875811f529493b0e9e411c09d5346c82299e51a09ca4886ab9dc3084fd"
  },
  "kernelspec": {
   "display_name": "Python 3.8.11 64-bit ('vscode': conda)",
   "name": "python3"
  },
  "language_info": {
   "codemirror_mode": {
    "name": "ipython",
    "version": 3
   },
   "file_extension": ".py",
   "mimetype": "text/x-python",
   "name": "python",
   "nbconvert_exporter": "python",
   "pygments_lexer": "ipython3",
   "version": "3.8.11"
  }
 },
 "nbformat": 4,
 "nbformat_minor": 2
}
