{
 "cells": [
  {
   "cell_type": "markdown",
   "id": "million-millennium",
   "metadata": {
    "papermill": {
     "duration": 0.039623,
     "end_time": "2021-04-17T08:41:35.689960",
     "exception": false,
     "start_time": "2021-04-17T08:41:35.650337",
     "status": "completed"
    },
    "tags": []
   },
   "source": [
    "# Sentiment Analysis Using Various ML Classifiers ans well as using Recurrent Neural Network"
   ]
  },
  {
   "cell_type": "markdown",
   "metadata": {},
   "source": [
    "In this notebook you will see text precessing on twitter data set and after that I have performed different Machine Learning Algorithms on the data such as **Logistic Regression, RandomForestClassifier, SVC, Naive Bayes** to classifiy positive and negative tweets. After that I have also built a RNN network which is the best fit for such textual sentiment analysis, since it's a Sequential Dataset which is requirement for RNN network.\n",
    "\n",
    "#### Let's Dive into it."
   ]
  },
  {
   "cell_type": "markdown",
   "metadata": {},
   "source": [
    "# Data boostrapping"
   ]
  },
  {
   "cell_type": "code",
   "execution_count": null,
   "metadata": {},
   "outputs": [],
   "source": [
    "# assume that bootstrap data is readily available\n",
    "def bootstrap_data():\n",
    "  pass"
   ]
  },
  {
   "cell_type": "markdown",
   "metadata": {},
   "source": [
    "# Preprocess"
   ]
  },
  {
   "cell_type": "markdown",
   "metadata": {},
   "source": [
    "## Analysis"
   ]
  },
  {
   "cell_type": "markdown",
   "metadata": {},
   "source": [
    "## Visualization"
   ]
  },
  {
   "cell_type": "markdown",
   "metadata": {},
   "source": [
    "## Transformation"
   ]
  },
  {
   "cell_type": "markdown",
   "metadata": {},
   "source": [
    "# Model Building"
   ]
  },
  {
   "cell_type": "markdown",
   "metadata": {},
   "source": [
    "# Train"
   ]
  },
  {
   "cell_type": "markdown",
   "metadata": {},
   "source": [
    "### Logistic Regression"
   ]
  },
  {
   "cell_type": "markdown",
   "metadata": {},
   "source": [
    "### Linear SVM"
   ]
  },
  {
   "cell_type": "markdown",
   "metadata": {},
   "source": [
    "### Random Forest"
   ]
  },
  {
   "cell_type": "markdown",
   "metadata": {},
   "source": [
    "### Naive Bayes"
   ]
  },
  {
   "cell_type": "markdown",
   "metadata": {},
   "source": [
    "## Hyper-parameters tuning"
   ]
  },
  {
   "cell_type": "markdown",
   "metadata": {},
   "source": [
    "### Logistic Regression"
   ]
  },
  {
   "cell_type": "markdown",
   "metadata": {},
   "source": [
    "### Linear SVM"
   ]
  },
  {
   "cell_type": "markdown",
   "metadata": {},
   "source": [
    "### Random Forest"
   ]
  },
  {
   "cell_type": "markdown",
   "metadata": {},
   "source": [
    "### Naive Bayes"
   ]
  },
  {
   "cell_type": "markdown",
   "metadata": {},
   "source": [
    "## Choosing best model"
   ]
  },
  {
   "cell_type": "markdown",
   "metadata": {},
   "source": [
    "# Serving middleware"
   ]
  },
  {
   "cell_type": "markdown",
   "metadata": {},
   "source": [
    "# Model Serving"
   ]
  },
  {
   "cell_type": "markdown",
   "metadata": {},
   "source": [
    "# Model monitoring"
   ]
  },
  {
   "cell_type": "markdown",
   "metadata": {},
   "source": [
    "## Check model exists"
   ]
  },
  {
   "cell_type": "code",
   "execution_count": null,
   "metadata": {},
   "outputs": [],
   "source": [
    "model_bucket='tweet-sentiment-analysis'\n",
    "model_bucket_path='model/model.joblib'\n",
    "moel_path=f's3://{model_bucket}/{model_bucket_path}'"
   ]
  },
  {
   "cell_type": "code",
   "execution_count": null,
   "metadata": {},
   "outputs": [],
   "source": [
    "def check_existing_model(model_bucket: str, model_bucket_path: str) -> bool:\n",
    "  import boto3, botocore\n",
    "  s3 = boto3.resource('s3',\n",
    "    aws_access_key_id='minio',\n",
    "    aws_secret_access_key='minio123',\n",
    "    endpoint_url='https://minio.k8s.tidu.giize.com',\n",
    "  )\n",
    "  try:\n",
    "    s3.Object(model_bucket, model_bucket_path).load()\n",
    "    return true\n",
    "  except botocore.exceptions.ClientError as e:\n",
    "    if e.response['Error']['Code'] == \"404\":\n",
    "        return false\n",
    "    else:\n",
    "        # Something else has gone wrong.\n",
    "        raise"
   ]
  },
  {
   "cell_type": "markdown",
   "metadata": {},
   "source": [
    "## Data fetching"
   ]
  },
  {
   "cell_type": "code",
   "execution_count": 129,
   "metadata": {},
   "outputs": [],
   "source": [
    "def get_data_inputs():\n",
    "  pass"
   ]
  },
  {
   "cell_type": "code",
   "execution_count": 130,
   "metadata": {},
   "outputs": [],
   "source": [
    "def get_predictions():\n",
    "  pass"
   ]
  },
  {
   "cell_type": "code",
   "execution_count": 131,
   "metadata": {},
   "outputs": [],
   "source": [
    "def get_labels():\n",
    "  pass"
   ]
  },
  {
   "cell_type": "markdown",
   "metadata": {},
   "source": [
    "## Data saving"
   ]
  },
  {
   "cell_type": "markdown",
   "metadata": {},
   "source": [
    "## Provisioning"
   ]
  },
  {
   "cell_type": "markdown",
   "metadata": {},
   "source": [
    "### Data inputs analysis"
   ]
  },
  {
   "cell_type": "markdown",
   "metadata": {},
   "source": [
    "### Predicted outputs analysis"
   ]
  },
  {
   "cell_type": "markdown",
   "metadata": {},
   "source": [
    "#### Distributions"
   ]
  },
  {
   "cell_type": "markdown",
   "metadata": {},
   "source": [
    "#### Metrics"
   ]
  },
  {
   "cell_type": "markdown",
   "metadata": {},
   "source": [
    "## Should retrain or not?"
   ]
  },
  {
   "cell_type": "markdown",
   "metadata": {},
   "source": [
    "# Kubeflow Pipeline Setup"
   ]
  },
  {
   "cell_type": "markdown",
   "metadata": {},
   "source": [
    "## Prepare kubeflow pipeline client"
   ]
  },
  {
   "cell_type": "code",
   "execution_count": null,
   "metadata": {},
   "outputs": [],
   "source": [
    "kfp_endpoint='https://kubeflow-api.k8s.tidu.giize.com/pipeline'"
   ]
  },
  {
   "cell_type": "code",
   "execution_count": 134,
   "metadata": {},
   "outputs": [],
   "source": [
    "from typing import NamedTuple\n",
    "import kfp\n",
    "from kfp.components import InputPath, InputTextFile, OutputPath, OutputTextFile\n",
    "from kfp.components import func_to_container_op\n",
    "from kfp import compiler\n",
    "from kfp import dsl"
   ]
  },
  {
   "cell_type": "code",
   "execution_count": null,
   "metadata": {},
   "outputs": [],
   "source": [
    "client = kfp.Client(host=kfp_endpoint)"
   ]
  },
  {
   "cell_type": "code",
   "execution_count": null,
   "metadata": {},
   "outputs": [
    {
     "data": {
      "text/plain": [
       "{'experiments': [{'created_at': datetime.datetime(2022, 2, 15, 2, 54, 10, tzinfo=tzlocal()),\n",
       "                  'description': None,\n",
       "                  'id': '0cc9e029-e0db-499a-86fb-dcad27e48e03',\n",
       "                  'name': 'Default',\n",
       "                  'resource_references': [{'key': {'id': 'tidu-nguyen-2000',\n",
       "                                                   'type': 'NAMESPACE'},\n",
       "                                           'name': None,\n",
       "                                           'relationship': 'OWNER'}],\n",
       "                  'storage_state': 'STORAGESTATE_AVAILABLE'}],\n",
       " 'next_page_token': None,\n",
       " 'total_size': 1}"
      ]
     },
     "metadata": {},
     "output_type": "display_data"
    }
   ],
   "source": [
    "client.list_experiments()"
   ]
  },
  {
   "cell_type": "code",
   "execution_count": null,
   "metadata": {},
   "outputs": [
    {
     "data": {
      "text/plain": [
       "{'next_page_token': None,\n",
       " 'pipelines': [{'created_at': datetime.datetime(2022, 2, 15, 2, 52, 20, tzinfo=tzlocal()),\n",
       "                'default_version': {'code_source_url': None,\n",
       "                                    'created_at': datetime.datetime(2022, 2, 15, 2, 52, 20, tzinfo=tzlocal()),\n",
       "                                    'description': None,\n",
       "                                    'id': '9526b615-51ae-44dc-a143-df3c01a0c40c',\n",
       "                                    'name': '[Demo] XGBoost - Iterative model '\n",
       "                                            'training',\n",
       "                                    'package_url': None,\n",
       "                                    'parameters': None,\n",
       "                                    'resource_references': [{'key': {'id': '9526b615-51ae-44dc-a143-df3c01a0c40c',\n",
       "                                                                     'type': 'PIPELINE'},\n",
       "                                                             'name': None,\n",
       "                                                             'relationship': 'OWNER'}]},\n",
       "                'description': '[source '\n",
       "                               'code](https://github.com/kubeflow/pipelines/blob/6cddf73a1e79540aeacb761e517fd4319b3b3aa5/samples/core/train_until_good/train_until_good.py) '\n",
       "                               'This sample demonstrates iterative training '\n",
       "                               'using a train-eval-check recursive loop. The '\n",
       "                               'main pipeline trains the initial model and '\n",
       "                               'then gradually trains the model some more '\n",
       "                               'until the model evaluation metrics are good '\n",
       "                               'enough.',\n",
       "                'error': None,\n",
       "                'id': '9526b615-51ae-44dc-a143-df3c01a0c40c',\n",
       "                'name': '[Demo] XGBoost - Iterative model training',\n",
       "                'parameters': None,\n",
       "                'resource_references': None,\n",
       "                'url': None},\n",
       "               {'created_at': datetime.datetime(2022, 2, 15, 2, 52, 21, tzinfo=tzlocal()),\n",
       "                'default_version': {'code_source_url': None,\n",
       "                                    'created_at': datetime.datetime(2022, 2, 15, 2, 52, 21, tzinfo=tzlocal()),\n",
       "                                    'description': None,\n",
       "                                    'id': 'e0bad058-5b7b-447c-8f23-298cbe26a864',\n",
       "                                    'name': '[Demo] TFX - Taxi tip prediction '\n",
       "                                            'model trainer',\n",
       "                                    'package_url': None,\n",
       "                                    'parameters': [{'name': 'pipeline-root',\n",
       "                                                    'value': 'gs://{{kfp-default-bucket}}/tfx_taxi_simple/{{workflow.uid}}'},\n",
       "                                                   {'name': 'data-root',\n",
       "                                                    'value': 'gs://ml-pipeline/sample-data/chicago-taxi/data'},\n",
       "                                                   {'name': 'module-file',\n",
       "                                                    'value': '/tfx/src/tfx/examples/chicago_taxi_pipeline/taxi_utils.py'}],\n",
       "                                    'resource_references': [{'key': {'id': 'e0bad058-5b7b-447c-8f23-298cbe26a864',\n",
       "                                                                     'type': 'PIPELINE'},\n",
       "                                                             'name': None,\n",
       "                                                             'relationship': 'OWNER'}]},\n",
       "                'description': '[source '\n",
       "                               'code](https://github.com/kubeflow/pipelines/tree/6cddf73a1e79540aeacb761e517fd4319b3b3aa5/samples/core/parameterized_tfx_oss) '\n",
       "                               '[GCP Permission '\n",
       "                               'requirements](https://github.com/kubeflow/pipelines/blob/6cddf73a1e79540aeacb761e517fd4319b3b3aa5/samples/core/parameterized_tfx_oss#permission). '\n",
       "                               'Example pipeline that does classification with '\n",
       "                               'model analysis based on a public tax cab '\n",
       "                               'dataset.',\n",
       "                'error': None,\n",
       "                'id': 'e0bad058-5b7b-447c-8f23-298cbe26a864',\n",
       "                'name': '[Demo] TFX - Taxi tip prediction model trainer',\n",
       "                'parameters': [{'name': 'pipeline-root',\n",
       "                                'value': 'gs://{{kfp-default-bucket}}/tfx_taxi_simple/{{workflow.uid}}'},\n",
       "                               {'name': 'data-root',\n",
       "                                'value': 'gs://ml-pipeline/sample-data/chicago-taxi/data'},\n",
       "                               {'name': 'module-file',\n",
       "                                'value': '/tfx/src/tfx/examples/chicago_taxi_pipeline/taxi_utils.py'}],\n",
       "                'resource_references': None,\n",
       "                'url': None},\n",
       "               {'created_at': datetime.datetime(2022, 2, 15, 2, 52, 22, tzinfo=tzlocal()),\n",
       "                'default_version': {'code_source_url': None,\n",
       "                                    'created_at': datetime.datetime(2022, 2, 15, 2, 52, 22, tzinfo=tzlocal()),\n",
       "                                    'description': None,\n",
       "                                    'id': '9f27f7f1-5ec3-4573-8e67-75b9062dcb7b',\n",
       "                                    'name': '[Tutorial] Data passing in python '\n",
       "                                            'components',\n",
       "                                    'package_url': None,\n",
       "                                    'parameters': None,\n",
       "                                    'resource_references': [{'key': {'id': '9f27f7f1-5ec3-4573-8e67-75b9062dcb7b',\n",
       "                                                                     'type': 'PIPELINE'},\n",
       "                                                             'name': None,\n",
       "                                                             'relationship': 'OWNER'}]},\n",
       "                'description': '[source '\n",
       "                               'code](https://github.com/kubeflow/pipelines/tree/6cddf73a1e79540aeacb761e517fd4319b3b3aa5/samples/tutorials/Data%20passing%20in%20python%20components) '\n",
       "                               'Shows how to pass data between python '\n",
       "                               'components.',\n",
       "                'error': None,\n",
       "                'id': '9f27f7f1-5ec3-4573-8e67-75b9062dcb7b',\n",
       "                'name': '[Tutorial] Data passing in python components',\n",
       "                'parameters': None,\n",
       "                'resource_references': None,\n",
       "                'url': None},\n",
       "               {'created_at': datetime.datetime(2022, 2, 15, 2, 52, 23, tzinfo=tzlocal()),\n",
       "                'default_version': {'code_source_url': None,\n",
       "                                    'created_at': datetime.datetime(2022, 2, 15, 2, 52, 23, tzinfo=tzlocal()),\n",
       "                                    'description': None,\n",
       "                                    'id': 'a3fb998a-27c8-4cd9-a82f-e5107a139907',\n",
       "                                    'name': '[Tutorial] DSL - Control '\n",
       "                                            'structures',\n",
       "                                    'package_url': None,\n",
       "                                    'parameters': None,\n",
       "                                    'resource_references': [{'key': {'id': 'a3fb998a-27c8-4cd9-a82f-e5107a139907',\n",
       "                                                                     'type': 'PIPELINE'},\n",
       "                                                             'name': None,\n",
       "                                                             'relationship': 'OWNER'}]},\n",
       "                'description': '[source '\n",
       "                               'code](https://github.com/kubeflow/pipelines/tree/6cddf73a1e79540aeacb761e517fd4319b3b3aa5/samples/tutorials/DSL%20-%20Control%20structures) '\n",
       "                               'Shows how to use conditional execution and '\n",
       "                               'exit handlers. This pipeline will randomly '\n",
       "                               'fail to demonstrate that the exit handler gets '\n",
       "                               'executed even in case of failure.',\n",
       "                'error': None,\n",
       "                'id': 'a3fb998a-27c8-4cd9-a82f-e5107a139907',\n",
       "                'name': '[Tutorial] DSL - Control structures',\n",
       "                'parameters': None,\n",
       "                'resource_references': None,\n",
       "                'url': None}],\n",
       " 'total_size': 4}"
      ]
     },
     "metadata": {},
     "output_type": "display_data"
    }
   ],
   "source": [
    "client.list_pipelines()"
   ]
  },
  {
   "cell_type": "markdown",
   "metadata": {},
   "source": [
    "## Pipeline"
   ]
  },
  {
   "cell_type": "code",
   "execution_count": null,
   "metadata": {},
   "outputs": [],
   "source": [
    "pipeline_name = 'tweet_sentiment_analysis'"
   ]
  },
  {
   "cell_type": "markdown",
   "metadata": {},
   "source": [
    "### Pipeline design"
   ]
  },
  {
   "cell_type": "code",
   "execution_count": 132,
   "metadata": {},
   "outputs": [],
   "source": [
    "def tweet_sentiment_analysis():\n",
    "  pass"
   ]
  },
  {
   "cell_type": "markdown",
   "metadata": {},
   "source": [
    "### Compile the pipeline"
   ]
  },
  {
   "cell_type": "code",
   "execution_count": null,
   "metadata": {},
   "outputs": [],
   "source": [
    "compiler.Compiler().compile(\n",
    "  pipeline_func=tweet_sentiment_analysis,\n",
    "  package_path=f'{pipeline_name}.yaml'\n",
    ")"
   ]
  },
  {
   "cell_type": "markdown",
   "metadata": {},
   "source": [
    "### Upload the pipeline"
   ]
  },
  {
   "cell_type": "code",
   "execution_count": 138,
   "metadata": {},
   "outputs": [
    {
     "name": "stdout",
     "output_type": "stream",
     "text": [
      "\u001b[0;31mType:\u001b[0m        Struct\n",
      "\u001b[0;31mString form:\u001b[0m <kfp._client.Struct object at 0x7fa026f22250>\n",
      "\u001b[0;31mFile:\u001b[0m        ~/.local/lib/python3.7/site-packages/kfp/_client.py\n",
      "\u001b[0;31mDocstring:\u001b[0m   <no docstring>\n"
     ]
    }
   ],
   "source": [
    "client.pipelines.upload_pipeline(f'{pipeline_name}.yaml', name=pipeline_name)"
   ]
  },
  {
   "cell_type": "markdown",
   "metadata": {},
   "source": [
    "### Update the pipeline"
   ]
  },
  {
   "cell_type": "code",
   "execution_count": null,
   "metadata": {},
   "outputs": [
    {
     "name": "stdout",
     "output_type": "stream",
     "text": [
      "\u001b[0;31mType:\u001b[0m        Struct\n",
      "\u001b[0;31mString form:\u001b[0m <kfp._client.Struct object at 0x7fa026f22250>\n",
      "\u001b[0;31mFile:\u001b[0m        ~/.local/lib/python3.7/site-packages/kfp/_client.py\n",
      "\u001b[0;31mDocstring:\u001b[0m   <no docstring>\n"
     ]
    }
   ],
   "source": [
    "client.pipelines.upload_pipeline_version(f'{pipeline_name}.yaml', name=pipeline_name)"
   ]
  },
  {
   "cell_type": "markdown",
   "metadata": {},
   "source": [
    "## Experiment"
   ]
  },
  {
   "cell_type": "code",
   "execution_count": null,
   "metadata": {},
   "outputs": [],
   "source": [
    "client.create_experiment(name='sentiment-analysis', description='text precessing on twitter data set and predict if a tweet is positive or negative')"
   ]
  },
  {
   "cell_type": "markdown",
   "metadata": {},
   "source": [
    "## Recurrent Run"
   ]
  },
  {
   "cell_type": "code",
   "execution_count": 139,
   "metadata": {},
   "outputs": [
    {
     "ename": "AttributeError",
     "evalue": "'Client' object has no attribute 'create_re'",
     "output_type": "error",
     "traceback": [
      "\u001b[0;31m---------------------------------------------------------------------------\u001b[0m",
      "\u001b[0;31mAttributeError\u001b[0m                            Traceback (most recent call last)",
      "\u001b[0;32m/tmp/ipykernel_600/2440846058.py\u001b[0m in \u001b[0;36m<module>\u001b[0;34m\u001b[0m\n\u001b[0;32m----> 1\u001b[0;31m \u001b[0mclient\u001b[0m\u001b[0;34m.\u001b[0m\u001b[0mcreate_re\u001b[0m\u001b[0;34m(\u001b[0m\u001b[0mname\u001b[0m\u001b[0;34m=\u001b[0m\u001b[0;34m'sentiment-analysis'\u001b[0m\u001b[0;34m,\u001b[0m \u001b[0mdescription\u001b[0m\u001b[0;34m=\u001b[0m\u001b[0;34m'text precessing on twitter data set and predict if a tweet is positive or negative'\u001b[0m\u001b[0;34m)\u001b[0m\u001b[0;34m\u001b[0m\u001b[0;34m\u001b[0m\u001b[0m\n\u001b[0m",
      "\u001b[0;31mAttributeError\u001b[0m: 'Client' object has no attribute 'create_re'"
     ]
    }
   ],
   "source": [
    "client.create_recurring_run()"
   ]
  }
 ],
 "metadata": {
  "kernelspec": {
   "display_name": "Python 3 (ipykernel)",
   "language": "python",
   "name": "python3"
  },
  "language_info": {
   "codemirror_mode": {
    "name": "ipython",
    "version": 3
   },
   "file_extension": ".py",
   "mimetype": "text/x-python",
   "name": "python",
   "nbconvert_exporter": "python",
   "pygments_lexer": "ipython3",
   "version": "3.7.12"
  },
  "orig_nbformat": 4
 },
 "nbformat": 4,
 "nbformat_minor": 2
}
